{
  "nbformat": 4,
  "nbformat_minor": 0,
  "metadata": {
    "colab": {
      "name": "class_point.ipynb",
      "provenance": [],
      "collapsed_sections": []
    },
    "kernelspec": {
      "name": "python3",
      "display_name": "Python 3"
    }
  },
  "cells": [
    {
      "cell_type": "markdown",
      "metadata": {
        "id": "fVj_Gt6FFsf7",
        "colab_type": "text"
      },
      "source": [
        "## class Point\n",
        "\n",
        "You have to implement \\_\\_sub__(), dot(), cosine_similarity()."
      ]
    },
    {
      "cell_type": "code",
      "metadata": {
        "id": "lttsb-vGFuFM",
        "colab_type": "code",
        "colab": {}
      },
      "source": [
        "import math\n",
        "\n",
        "class PointError(Exception):\n",
        "   \"\"\"define custom exception\"\"\"\n",
        "   pass\n",
        "\n",
        "class Point:\n",
        "  def __init__( self, x=0, y=0):\n",
        "    self.x = float(x)\n",
        "    self.y = float(y)\n",
        "\n",
        "  def __add__(self, other): # + 연산\n",
        "    # other도 Point 객체이어야 한다.\n",
        "    if not isinstance(other, Point):\n",
        "      raise PointError('Point 객체가 아니네요!')\n",
        "    new_x = self.x + other.x\n",
        "    new_y = self.y + other.y\n",
        "    new_point = Point(new_x, new_y)\n",
        "    return new_point\n",
        "\n",
        "  def __sub__(self, other): # - 연산\n",
        "    # other도 Point 객체이어야 한다.\n",
        "    if not isinstance(other, Point):\n",
        "      raise PointError('Point 객체가 아니네요!')\n",
        "    new_x = self.x - other.x\n",
        "    new_y = self.y - other.y\n",
        "    new_point = Point(new_x, new_y)\n",
        "    return new_point\n",
        "\n",
        "  def length(self):\n",
        "    return math.sqrt(self.x**2 + self.y**2)\n",
        "\n",
        "  def __str__(self): # 화면에 출력할(print) 때 호출되는 함수\n",
        "    return \"P(%.2f, %.2f)\" % (self.x, self.y)\n",
        "\n",
        "  def angle(self): # 각도 구하기\n",
        "\n",
        "    tangent = self.y/self.x\n",
        "    self.theta = math.atan(tangent) # radian\n",
        "    angle = self.theta / math.pi * 180 # degree (도)\n",
        "    return angle\n",
        "\n",
        "  def __getitem__(self, key):\n",
        "    if key==0:\n",
        "      return self.x\n",
        "    elif key==1:\n",
        "      return self.y\n",
        "    else:\n",
        "      raise PointError('index값 범위 오류입니다!')\n",
        "\n",
        "  # 두 벡터 사이의 각도를 구하고, cosine값을 구한다.\n",
        "  def cos(self, other):\n",
        "    a1 = self.angle()\n",
        "    a2 = other.angle()\n",
        "    angle_diff = abs(a1 - a2) # 절대값. degree\n",
        "    theta = angle_diff/180.0 * math.pi # radian \n",
        "    cosine = math.cos(theta)\n",
        "    return angle_diff, cosine\n",
        "\n",
        "  # 두 벡터의 내적 (dot product)를 구한다.\n",
        "  def dot(self, other):\n",
        "    if not isinstance(other, Point):\n",
        "      raise PointError('Point 객체가 아니네요!')\n",
        "    dot_v = 0\n",
        "    dot_v = float((self.x * other.x) + (self.y * other.y))\n",
        "    return dot_v\n",
        "\n",
        "\n",
        "  # 두 벡터 사이의 cosine_similarity 를 구한다.\n",
        "  def cosine_similarity(self, other):\n",
        "    if not isinstance(other, Point):\n",
        "      raise PointError('Point 객체가 아니네요!')\n",
        "    '''  (두 벡터의 내적) / (두 벡테의 크기의 곱) '''\n",
        "    return  self.dot(other) / (self.length() + other.length())\n"
      ],
      "execution_count": 0,
      "outputs": []
    },
    {
      "cell_type": "code",
      "metadata": {
        "id": "emIimknIGM2F",
        "colab_type": "code",
        "colab": {}
      },
      "source": [
        "p1 = Point(3,4)\n",
        "p2 = Point(4,3)"
      ],
      "execution_count": 0,
      "outputs": []
    },
    {
      "cell_type": "code",
      "metadata": {
        "id": "CdconEBIQOBt",
        "colab_type": "code",
        "outputId": "3af4842c-98fa-4f75-aeb9-ecb69c43e0d6",
        "colab": {
          "base_uri": "https://localhost:8080/",
          "height": 34
        }
      },
      "source": [
        "angle, cosine = p1.cos(p2)\n",
        "print('Angle %.2f, COS %.2f' % (angle, cosine))"
      ],
      "execution_count": 0,
      "outputs": [
        {
          "output_type": "stream",
          "text": [
            "Angle 16.26, COS 0.96\n"
          ],
          "name": "stdout"
        }
      ]
    },
    {
      "cell_type": "code",
      "metadata": {
        "id": "0mxXbdJwDUr7",
        "colab_type": "code",
        "outputId": "cfed2319-d293-46f2-8850-04ddd580db83",
        "colab": {
          "base_uri": "https://localhost:8080/",
          "height": 68
        }
      },
      "source": [
        "print(p1.dot(p2))\n",
        "print(p1 - p2)\n",
        "print(p1.cosine_similarity(p2))"
      ],
      "execution_count": 0,
      "outputs": [
        {
          "output_type": "stream",
          "text": [
            "24.0\n",
            "P(-1.00, 1.00)\n",
            "2.4\n"
          ],
          "name": "stdout"
        }
      ]
    },
    {
      "cell_type": "code",
      "metadata": {
        "id": "jKysH5ceXhHU",
        "colab_type": "code",
        "colab": {}
      },
      "source": [
        ""
      ],
      "execution_count": 0,
      "outputs": []
    }
  ]
}