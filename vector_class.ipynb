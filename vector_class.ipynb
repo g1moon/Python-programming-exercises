{
  "nbformat": 4,
  "nbformat_minor": 0,
  "metadata": {
    "colab": {
      "name": "vector_class.ipynb",
      "provenance": [],
      "collapsed_sections": []
    },
    "kernelspec": {
      "name": "python3",
      "display_name": "Python 3"
    }
  },
  "cells": [
    {
      "cell_type": "markdown",
      "metadata": {
        "id": "fVj_Gt6FFsf7",
        "colab_type": "text"
      },
      "source": [
        "## class Vector"
      ]
    },
    {
      "cell_type": "markdown",
      "metadata": {
        "id": "oCfbMglDpmq4",
        "colab_type": "text"
      },
      "source": [
        "## Homework #1\n",
        "You have to implement all methods of class 'Vector'.\n",
        "\n",
        "Method \\_\\_init__() and getDim() is done already.  \n",
        "\n",
        "You have to show that your methods work correctly by creating some instances of Vector and calling some methods upon them."
      ]
    },
    {
      "cell_type": "code",
      "metadata": {
        "id": "lttsb-vGFuFM",
        "colab_type": "code",
        "colab": {}
      },
      "source": [
        "import math\n",
        "\n",
        "class VectorError(Exception):\n",
        "\n",
        "   \"\"\"define custom exception\"\"\"\n",
        "   pass\n",
        "\n",
        "class Vector:\n",
        "  def __init__( self, *args):\n",
        "    # map(): convert each element of a tuple to float type\n",
        "    # list(): convert the map object into a list\n",
        "    self.ar = args\n",
        "    self.v = list(map(float, args)) \n",
        "    self.ndim = len(self.v)\n",
        "    # print(self.v)\n",
        "\n",
        "  def getDim(self):\n",
        "    return self.ndim\n",
        "\n",
        "  def __add__(self, other): # + 연산\n",
        "    if not isinstance(other, Vector):\n",
        "      raise VectorError('Point 객체가 아니네요!')\n",
        "    if len(self.v) != len(other.v):\n",
        "      raise VectorError('백터의 차원이 다릅니다!')\n",
        "\n",
        "    new_v = []\n",
        "    for i in range(0, len(self.v)):\n",
        "      new_v.append(self.v[i] + other.v[i])\n",
        "    new_v = tuple(new_v)\n",
        "    new_v = Vector(*new_v)\n",
        "\n",
        "    return new_v\n",
        "\n",
        "\n",
        "\n",
        "  def __sub__(self, other): # - 연산\n",
        "    if not isinstance(other, Vector):\n",
        "      raise VectorError('Point 객체가 아니네요!')\n",
        "    if len(self.v) != len(other.v):\n",
        "      raise VectorError('벡터의 덧셈이 성립되지 않습니다.')\n",
        "\n",
        "    new_v = []\n",
        "    for i in range(0, len(self.v)):\n",
        "      new_v.append(self.v[i] - other.v[i])\n",
        "    new_v = tuple(new_v)\n",
        "    new_v = Vector(*new_v)\n",
        "\n",
        "    return new_v\n",
        "\n",
        "\n",
        "  def length(self):\n",
        "    length_ = 0\n",
        "    for i in range(0, len(self.v)):\n",
        "      length_ += self.v[i]**2\n",
        "    return math.sqrt(length_)\n",
        "    \n",
        "\n",
        "  def __str__(self): # 화면에 출력할(print) 때 호출되는 함수\n",
        "    #return \"P(%.2f, %.2f)\" % (self.x, self.y)\n",
        "    txt = ['%.2f' % x for x in self.v]\n",
        "    return f'V({txt})'\n",
        "\n",
        "  def __getitem__(self, key):\n",
        "    ''' 여기서 key는 index와 비슷한 의미임 '''\n",
        "    return self.v[key]\n",
        "\n",
        "\n",
        "  def dot(self, other):\n",
        "    dot_v = []\n",
        "    for i in range(len(self.v)):\n",
        "      dot_v.append( self.v[i] + other.v[i])\n",
        "    dot_ = sum(dot_v)\n",
        "    return dot_\n",
        "      \n",
        "\n",
        "  def similarity(self, other):\n",
        "    \n",
        "    return    (self.dot(other)) /(other.length() + self.length())\n",
        "    \n",
        "    \n",
        "\n",
        "    \n",
        "\n",
        "    \n",
        "          "
      ],
      "execution_count": 0,
      "outputs": []
    },
    {
      "cell_type": "code",
      "metadata": {
        "id": "f7kiOjIxzugr",
        "colab_type": "code",
        "colab": {}
      },
      "source": [
        "v1 = Vector(3,4,3)\n",
        "v2 = Vector(3,3,3)\n",
        "v3 = Vector(3,2)"
      ],
      "execution_count": 0,
      "outputs": []
    },
    {
      "cell_type": "code",
      "metadata": {
        "id": "qlzZ2NarL6ae",
        "colab_type": "code",
        "outputId": "4eedd6cf-4c87-47ae-f9e1-aac940143442",
        "colab": {
          "base_uri": "https://localhost:8080/",
          "height": 119
        }
      },
      "source": [
        "print(v1 + v1)\n",
        "print(v1 - v2)\n",
        "print(v1.length())\n",
        "print(v1.__getitem__(0))\n",
        "print(v1.dot(v2))\n",
        "print(v1.similarity(v2))"
      ],
      "execution_count": 0,
      "outputs": [
        {
          "output_type": "stream",
          "text": [
            "V(['6.00', '8.00', '6.00'])\n",
            "V(['0.00', '1.00', '0.00'])\n",
            "5.830951894845301\n",
            "3.0\n",
            "19.0\n",
            "1.7230271386621003\n"
          ],
          "name": "stdout"
        }
      ]
    },
    {
      "cell_type": "code",
      "metadata": {
        "id": "Rc0f49vpOAnG",
        "colab_type": "code",
        "outputId": "6f58d674-cfbe-4ef6-eb7c-7728bdffd99c",
        "colab": {
          "base_uri": "https://localhost:8080/",
          "height": 283
        }
      },
      "source": [
        "v1 + v3"
      ],
      "execution_count": 0,
      "outputs": [
        {
          "output_type": "error",
          "ename": "VectorError",
          "evalue": "ignored",
          "traceback": [
            "\u001b[0;31m---------------------------------------------------------------------------\u001b[0m",
            "\u001b[0;31mVectorError\u001b[0m                               Traceback (most recent call last)",
            "\u001b[0;32m<ipython-input-199-2c30cb702075>\u001b[0m in \u001b[0;36m<module>\u001b[0;34m()\u001b[0m\n\u001b[0;32m----> 1\u001b[0;31m \u001b[0mv1\u001b[0m \u001b[0;34m+\u001b[0m \u001b[0mv3\u001b[0m\u001b[0;34m\u001b[0m\u001b[0;34m\u001b[0m\u001b[0m\n\u001b[0m",
            "\u001b[0;32m<ipython-input-188-05649eb5673c>\u001b[0m in \u001b[0;36m__add__\u001b[0;34m(self, other)\u001b[0m\n\u001b[1;32m     22\u001b[0m       \u001b[0;32mraise\u001b[0m \u001b[0mVectorError\u001b[0m\u001b[0;34m(\u001b[0m\u001b[0;34m'Point 객체가 아니네요!'\u001b[0m\u001b[0;34m)\u001b[0m\u001b[0;34m\u001b[0m\u001b[0;34m\u001b[0m\u001b[0m\n\u001b[1;32m     23\u001b[0m     \u001b[0;32mif\u001b[0m \u001b[0mlen\u001b[0m\u001b[0;34m(\u001b[0m\u001b[0mself\u001b[0m\u001b[0;34m.\u001b[0m\u001b[0mv\u001b[0m\u001b[0;34m)\u001b[0m \u001b[0;34m!=\u001b[0m \u001b[0mlen\u001b[0m\u001b[0;34m(\u001b[0m\u001b[0mother\u001b[0m\u001b[0;34m.\u001b[0m\u001b[0mv\u001b[0m\u001b[0;34m)\u001b[0m\u001b[0;34m:\u001b[0m\u001b[0;34m\u001b[0m\u001b[0;34m\u001b[0m\u001b[0m\n\u001b[0;32m---> 24\u001b[0;31m       \u001b[0;32mraise\u001b[0m \u001b[0mVectorError\u001b[0m\u001b[0;34m(\u001b[0m\u001b[0;34m'백터의 차원이 다릅니다'\u001b[0m\u001b[0;34m)\u001b[0m\u001b[0;34m\u001b[0m\u001b[0;34m\u001b[0m\u001b[0m\n\u001b[0m\u001b[1;32m     25\u001b[0m \u001b[0;34m\u001b[0m\u001b[0m\n\u001b[1;32m     26\u001b[0m     \u001b[0mnew_v\u001b[0m \u001b[0;34m=\u001b[0m \u001b[0;34m[\u001b[0m\u001b[0;34m]\u001b[0m\u001b[0;34m\u001b[0m\u001b[0;34m\u001b[0m\u001b[0m\n",
            "\u001b[0;31mVectorError\u001b[0m: 백터의 차원이 다릅니다"
          ]
        }
      ]
    },
    {
      "cell_type": "code",
      "metadata": {
        "id": "wLnDLlahZIQj",
        "colab_type": "code",
        "colab": {}
      },
      "source": [
        ""
      ],
      "execution_count": 0,
      "outputs": []
    }
  ]
}