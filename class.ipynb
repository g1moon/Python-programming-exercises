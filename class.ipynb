{
  "nbformat": 4,
  "nbformat_minor": 0,
  "metadata": {
    "colab": {
      "name": "class.ipynb",
      "provenance": [],
      "collapsed_sections": []
    },
    "kernelspec": {
      "name": "python3",
      "display_name": "Python 3"
    }
  },
  "cells": [
    {
      "cell_type": "code",
      "metadata": {
        "id": "ITsIgEBuQV1e",
        "colab_type": "code",
        "outputId": "d5d59784-4534-4373-9716-c7004bb9ac17",
        "colab": {
          "base_uri": "https://localhost:8080/",
          "height": 102
        }
      },
      "source": [
        "list_ = [] #빈리스트\n",
        "\n",
        "list_.insert(0,10)\n",
        "print(list_)\n",
        "\n",
        "list_.insert(1,20)\n",
        "print(list_)\n",
        "\n",
        "list_.insert(0,30)\n",
        "print(list_)\n",
        "\n",
        "list_.insert(2,40)\n",
        "print(list_)\n",
        "\n",
        "list_.insert(4, 50)\n",
        "print(list_)\n",
        "\n"
      ],
      "execution_count": 0,
      "outputs": [
        {
          "output_type": "stream",
          "text": [
            "[10]\n",
            "[10, 20]\n",
            "[30, 10, 20]\n",
            "[30, 10, 40, 20]\n",
            "[30, 10, 40, 20, 50]\n"
          ],
          "name": "stdout"
        }
      ]
    },
    {
      "cell_type": "code",
      "metadata": {
        "id": "ph4C3P_zQ45l",
        "colab_type": "code",
        "outputId": "be1ea7ba-44d2-42db-9d40-2616d1021004",
        "colab": {
          "base_uri": "https://localhost:8080/",
          "height": 85
        }
      },
      "source": [
        "def delete(del_, list_):\n",
        "  idx = 0\n",
        "  for i in range(len(list_)):\n",
        "    if list_[i] == del_:\n",
        "      list_.pop(idx)\n",
        "  return\n",
        "\n",
        "def replace(from_idx,to_,list_):\n",
        "  idx = 0\n",
        "  for i in range(len(list_)):\n",
        "    if list_[i] == list_[from_idx]:\n",
        "      idx =i\n",
        "      list_[idx] = to_\n",
        "      return \n",
        "\n",
        "l = [30, 10, 40, 20, 50]\n",
        "print(l)\n",
        "\n",
        "l.insert(1,60)\n",
        "print(l)\n",
        "\n",
        "\n",
        "replace(2,70,l)\n",
        "print(l)\n",
        "\n",
        "\n",
        "delete(2,l)\n",
        "print(l)"
      ],
      "execution_count": 0,
      "outputs": [
        {
          "output_type": "stream",
          "text": [
            "[30, 10, 40, 20, 50]\n",
            "[30, 60, 10, 40, 20, 50]\n",
            "[30, 60, 70, 40, 20, 50]\n",
            "[30, 60, 70, 40, 20, 50]\n"
          ],
          "name": "stdout"
        }
      ]
    },
    {
      "cell_type": "code",
      "metadata": {
        "id": "sQDxn_ZTTIrU",
        "colab_type": "code",
        "outputId": "4a9de58b-e1a9-414c-e421-b9f9f80f1063",
        "colab": {
          "base_uri": "https://localhost:8080/",
          "height": 34
        }
      },
      "source": [
        "listA = [5, 79, 9, 10, 29, 99, 15, 32, 54, 27]\n",
        "\n",
        "max_ = listA[0]\n",
        "for i in range(len(listA)):\n",
        "  if max_ < listA[i]:\n",
        "    max_ = listA[i]\n",
        "\n",
        "print(max_)\n",
        "  \n",
        "  "
      ],
      "execution_count": 0,
      "outputs": [
        {
          "output_type": "stream",
          "text": [
            "99\n"
          ],
          "name": "stdout"
        }
      ]
    },
    {
      "cell_type": "code",
      "metadata": {
        "id": "Gdyo_HQmT2By",
        "colab_type": "code",
        "colab": {}
      },
      "source": [
        "class Set:\n",
        "  def __init__(self):\n",
        "    self.items = []\n",
        "\n",
        "  def size(self):\n",
        "    return len(self.items)\n",
        "\n",
        "  def display(self, msg):\n",
        "    print(msg, self.items)\n",
        "\n",
        "  def contains(self, item):\n",
        "    for i in range(len(self.items)):\n",
        "      if elem not in self.items:\n",
        "        self.items.append(elem)\n",
        "\n",
        "  def insert(self, elem):\n",
        "    if elem not in self.items:\n",
        "      self.items.append(elem)\n",
        "\n",
        "  def contains(self, item):\n",
        "    for i in range(len(self.items)):\n",
        "      if self.items[i] == item:\n",
        "        return True\n",
        "    return False\n",
        "\n",
        "\n",
        "  def delete(self, elem):\n",
        "    idx = 0 \n",
        "    # print(self.contains(elem))\n",
        "    if self.contains(elem):\n",
        "      for i in range(len(self.items)):\n",
        "        if elem == self.items[i]:\n",
        "          idx = i\n",
        "    \n",
        "    else:\n",
        "      return False\n",
        "\n",
        "    self.items.pop(idx)\n",
        "\n",
        "  def __sub__(self, other):\n",
        "    setC = Set()\n",
        "    for el in other.items:\n",
        "      if el in self.items:\n",
        "        self.delete(el)\n",
        "\n",
        "    for i in self.items:\n",
        "      setC.insert(i)\n",
        "    \n",
        "\n",
        "    return setC\n",
        "\n",
        "  \n",
        "  def difference(self, setB):\n",
        "    setC = Set()\n",
        "    for elem in self.items:\n",
        "      if elem not in setB.items:\n",
        "        setC.items.append(elem)\n",
        "\n",
        "    return setC\n",
        "\n",
        "    \n",
        "\n",
        "\n"
      ],
      "execution_count": 0,
      "outputs": []
    },
    {
      "cell_type": "code",
      "metadata": {
        "id": "2tHyX5fvGKbp",
        "colab_type": "code",
        "outputId": "13c1e95f-3dfa-4f5f-d837-872393587cf2",
        "colab": {
          "base_uri": "https://localhost:8080/",
          "height": 34
        }
      },
      "source": [
        "setA = Set()\n",
        "setA.insert('휴대폰')\n",
        "setA.insert('지갑')\n",
        "setA.insert('손수건')\n",
        "setA.delete('지갑')\n",
        "\n",
        "setA.display('Set A:')\n",
        "\n"
      ],
      "execution_count": 0,
      "outputs": [
        {
          "output_type": "stream",
          "text": [
            "Set A: ['휴대폰', '손수건']\n"
          ],
          "name": "stdout"
        }
      ]
    },
    {
      "cell_type": "code",
      "metadata": {
        "id": "h0oVOnj1Hyed",
        "colab_type": "code",
        "outputId": "f9c8bcf9-8d35-474a-f7d0-20682301f0cd",
        "colab": {
          "base_uri": "https://localhost:8080/",
          "height": 36
        }
      },
      "source": [
        "setA = Set()\n",
        "setA.insert('휴대폰')\n",
        "setA.insert('지갑')\n",
        "setA.insert('손수건')\n",
        "\n",
        "setB = Set()\n",
        "setB.insert('자바')\n",
        "setB.insert('자료구조')\n",
        "setB.insert('모바일프로그래밍')\n",
        "setB.insert('지갑')\n",
        "\n",
        "setC = setA - setB\n",
        "setC.display('Set C:')\n"
      ],
      "execution_count": 69,
      "outputs": [
        {
          "output_type": "stream",
          "text": [
            "Set C: ['휴대폰', '손수건']\n"
          ],
          "name": "stdout"
        }
      ]
    },
    {
      "cell_type": "code",
      "metadata": {
        "id": "gwhrJpcNIKn7",
        "colab_type": "code",
        "colab": {}
      },
      "source": [
        ""
      ],
      "execution_count": 0,
      "outputs": []
    },
    {
      "cell_type": "code",
      "metadata": {
        "id": "oYUqLcWLLb8n",
        "colab_type": "code",
        "colab": {}
      },
      "source": [
        ""
      ],
      "execution_count": 0,
      "outputs": []
    }
  ]
}